{
 "cells": [
  {
   "cell_type": "code",
   "execution_count": 33,
   "metadata": {},
   "outputs": [],
   "source": [
    "import pymysql\n",
    "from pymysql.cursors import DictCursor\n",
    "from datetime import timedelta"
   ]
  },
  {
   "cell_type": "code",
   "execution_count": 34,
   "metadata": {},
   "outputs": [],
   "source": [
    "conn=pymysql.connect(host=\"localhost\",\n",
    "                            database=\"digital_factory_v1_completed\",\n",
    "                            user=\"root\",\n",
    "                            password=\"\")\n",
    "cur=conn.cursor(DictCursor)\n"
   ]
  },
  {
   "cell_type": "code",
   "execution_count": 41,
   "metadata": {},
   "outputs": [
    {
     "data": {
      "text/plain": [
       "[{'shift_id': 1,\n",
       "  'company_id': 1,\n",
       "  'no_of_shifts': 3,\n",
       "  'shift1_start_time': datetime.datetime(1900, 1, 1, 7, 0),\n",
       "  'shift2_start_time': datetime.datetime(1900, 1, 1, 15, 30),\n",
       "  'shift3_start_time': datetime.datetime(1900, 1, 1, 23, 30),\n",
       "  'mill_date': datetime.datetime(2022, 8, 3, 0, 0),\n",
       "  'mill_shift': '3',\n",
       "  'created_on': datetime.datetime(2019, 3, 28, 21, 35, 14),\n",
       "  'created_by': 0,\n",
       "  'modified_on': '2020-08-04 18:41:32',\n",
       "  'modified_by': 1}]"
      ]
     },
     "execution_count": 41,
     "metadata": {},
     "output_type": "execute_result"
    }
   ],
   "source": [
    "cur.execute(f\"select * from digital_factory_v1.master_shifts\")\n",
    "val=cur.fetchall()\n",
    "val"
   ]
  },
  {
   "cell_type": "code",
   "execution_count": 42,
   "metadata": {},
   "outputs": [
    {
     "name": "stdout",
     "output_type": "stream",
     "text": [
      "2022-08-03 00:00:00\n",
      "2\n"
     ]
    }
   ],
   "source": [
    "mill_shift=int(val[0][\"mill_shift\"])-1\n",
    "mill_date=val[0][\"mill_date\"]\n",
    "# print(mill_shift)\n",
    "if mill_shift==0:\n",
    "    mill_shift=val[0][\"no_of_shifts\"]\n",
    "    mill_date-=timedelta(1)\n",
    "\n",
    "print(mill_date)\n",
    "print(mill_shift)"
   ]
  },
  {
   "cell_type": "code",
   "execution_count": 43,
   "metadata": {},
   "outputs": [
    {
     "name": "stdout",
     "output_type": "stream",
     "text": [
      "production_082022_shift\n",
      "production_082022_date\n",
      "production_082022_month\n",
      "2022-08-03\n"
     ]
    }
   ],
   "source": [
    "mill_month={1:\"01\",2:\"02\",3:\"03\",4:\"04\",5:\"05\",6:\"06\",7:\"07\",8:\"08\",9:\"09\",10:\"10\",11:\"11\",12:\"12\"}\n",
    "month=mill_month[mill_date.month]\n",
    "shift_table_name=\"production_\"+month+str(mill_date.year)+\"_\"+\"shift\"\n",
    "day_table_name=\"production_\"+month+str(mill_date.year)+\"_\"+\"date\"\n",
    "month_table_name=\"production_\"+month+str(mill_date.year)+\"_\"+\"month\"\n",
    "mill_date=str(mill_date).split()[0]\n",
    "print(shift_table_name)\n",
    "print(day_table_name)\n",
    "print(month_table_name)\n",
    "print(str(mill_date))\n"
   ]
  },
  {
   "cell_type": "code",
   "execution_count": 44,
   "metadata": {},
   "outputs": [
    {
     "data": {
      "text/plain": [
       "1"
      ]
     },
     "execution_count": 44,
     "metadata": {},
     "output_type": "execute_result"
    }
   ],
   "source": [
    "cur.execute(f\"select exists (select table_name from information_schema.tables where table_schema='digital_factory_v1_completed' and table_name='{shift_table_name}' )as result\")\n",
    "state=cur.fetchall()\n",
    "state[0][\"result\"]\n",
    "\n"
   ]
  },
  {
   "cell_type": "code",
   "execution_count": 45,
   "metadata": {},
   "outputs": [
    {
     "data": {
      "text/plain": [
       "'08'"
      ]
     },
     "execution_count": 45,
     "metadata": {},
     "output_type": "execute_result"
    }
   ],
   "source": [
    "month"
   ]
  },
  {
   "cell_type": "code",
   "execution_count": 46,
   "metadata": {},
   "outputs": [],
   "source": [
    "if state[0][\"result\"]==0:\n",
    "\tcur.execute(f\"\"\"CREATE TABLE {shift_table_name} (\n",
    "  `id` INT(11) PRIMARY KEY AUTO_INCREMENT AUTO_INCREMENT,\n",
    "  `department_id` INT(11) NOT NULL DEFAULT 0,\n",
    "  `machine_id` INT(11) NOT NULL DEFAULT 0,\n",
    "  `mill_date` DATETIME NOT NULL DEFAULT CURRENT_TIMESTAMP,\n",
    "  `mill_shift` ENUM('1','2','3') NOT NULL DEFAULT '1',\n",
    "  `AR` DOUBLE(18,1) NOT NULL DEFAULT 0.0,\n",
    "  `PR` DOUBLE(18,1) NOT NULL DEFAULT 0.0,\n",
    "  `QR` DOUBLE(18,1) NOT NULL DEFAULT 0.0,\n",
    "  `OEE` DOUBLE(18,1) NOT NULL DEFAULT 0.0,\n",
    "  `pr_by_val` DOUBLE(21,4) NOT NULL DEFAULT 0.0000,\n",
    "  `target` DOUBLE(17,0) NOT NULL DEFAULT 0,\n",
    "  `actual` DOUBLE(17,0) NOT NULL DEFAULT 0,\n",
    "  `sq_mtr` DOUBLE(17,0) NOT NULL DEFAULT 0,\n",
    "  `ok_qty` DOUBLE(17,0) NOT NULL DEFAULT 0,\n",
    "  `running_time` DECIMAL(32,0) NOT NULL DEFAULT 0,\n",
    "  `loss_time` DECIMAL(33,0) NOT NULL DEFAULT 0\n",
    ")\"\"\")\n",
    "\tconn.commit()\n",
    "\tcur.execute(f\"\"\"CREATE TABLE {day_table_name} (\n",
    "  `id` INT(11) PRIMARY KEY AUTO_INCREMENT AUTO_INCREMENT,\n",
    "  `department_id` INT(11) NOT NULL DEFAULT 0,\n",
    "  `machine_id` INT(11) NOT NULL DEFAULT 0,\n",
    "  `mill_date` DATETIME NOT NULL DEFAULT CURRENT_TIMESTAMP,\n",
    "  `mill_shift` ENUM('1','2','3') NOT NULL DEFAULT '1',\n",
    "  `AR` DOUBLE(18,1) NOT NULL DEFAULT 0.0,\n",
    "  `PR` DOUBLE(18,1) NOT NULL DEFAULT 0.0,\n",
    "  `QR` DOUBLE(18,1) NOT NULL DEFAULT 0.0,\n",
    "  `OEE` DOUBLE(18,1) NOT NULL DEFAULT 0.0,\n",
    "  `pr_by_val` DOUBLE(21,4) NOT NULL DEFAULT 0.0000,\n",
    "  `target` DOUBLE(17,0) NOT NULL DEFAULT 0,\n",
    "  `actual` DOUBLE(17,0) NOT NULL DEFAULT 0,\n",
    "  `sq_mtr` DOUBLE(17,0) NOT NULL DEFAULT 0,\n",
    "  `ok_qty` DOUBLE(17,0) NOT NULL DEFAULT 0,\n",
    "  `running_time` DECIMAL(32,0) NOT NULL DEFAULT 0,\n",
    "  `loss_time` DECIMAL(33,0) NOT NULL DEFAULT 0\n",
    ")\"\"\")\n",
    "\tconn.commit()\n",
    "\tcur.execute(f\"\"\"CREATE TABLE {month_table_name} (\n",
    "  `id` INT(11) PRIMARY KEY AUTO_INCREMENT AUTO_INCREMENT,\n",
    "  `department_id` INT(11) NOT NULL DEFAULT 0,\n",
    "  `machine_id` INT(11) NOT NULL DEFAULT 0,\n",
    "  `mill_date` DATETIME NOT NULL DEFAULT CURRENT_TIMESTAMP,\n",
    "  `mill_shift` ENUM('1','2','3') NOT NULL DEFAULT '1',\n",
    "  `AR` DOUBLE(18,1) NOT NULL DEFAULT 0.0,\n",
    "  `PR` DOUBLE(18,1) NOT NULL DEFAULT 0.0,\n",
    "  `QR` DOUBLE(18,1) NOT NULL DEFAULT 0.0,\n",
    "  `OEE` DOUBLE(18,1) NOT NULL DEFAULT 0.0,\n",
    "  `pr_by_val` DOUBLE(21,4) NOT NULL DEFAULT 0.0000,\n",
    "  `target` DOUBLE(17,0) NOT NULL DEFAULT 0,\n",
    "  `actual` DOUBLE(17,0) NOT NULL DEFAULT 0,\n",
    "  `sq_mtr` DOUBLE(17,0) NOT NULL DEFAULT 0,\n",
    "  `ok_qty` DOUBLE(17,0) NOT NULL DEFAULT 0,\n",
    "  `running_time` DECIMAL(32,0) NOT NULL DEFAULT 0,\n",
    "  `loss_time` DECIMAL(33,0) NOT NULL DEFAULT 0\n",
    ")\"\"\")\n",
    "\tconn.commit()\n",
    "\n",
    "\n",
    "cur.execute(f\"\"\"INSERT INTO {shift_table_name}(department_id,machine_id,mill_date,mill_shift,AR,PR,QR,OEE,pr_by_val,target,actual,sq_mtr,ok_qty,running_time,loss_time)\n",
    "\tSELECT cp.department_id,cp.machine_id,cp.mill_date,cp.mill_shift,\n",
    "\t\t\t\t\tCASE WHEN SUM(cp.run_time+cp.loss_time_1+cp.loss_time_2) >0 THEN \n",
    "\t\t\t\t\t\tROUND((SUM(cp.run_time)/SUM(cp.run_time+cp.loss_time_1+cp.loss_time_2))*100,1) \n",
    "\t\t\t\t\tELSE 0 END AR,\n",
    "\t\t\t\t\t\n",
    "\t\t\t\t\tCASE WHEN (mp.cycle_time_spec*(SUM(cp.run_time)/60)) >0 THEN \n",
    "\t\t\t\t\t\tCASE WHEN ROUND((((SUM((cp.actual*mp.part_per_stoke)/mp.division_factor))/SUM(((cp.run_time/60)*((mp.cycle_time_spec)))*mp.draw)))*100,1) > 100 THEN 100 ELSE ROUND((((SUM((cp.actual*mp.part_per_stoke)/mp.division_factor))/SUM(((cp.run_time/60)*((mp.cycle_time_spec)))*mp.draw)))*100,1) END \n",
    "\t\t\t\t\tELSE 0 END AS PR,\n",
    "\t\t\t\t\t\n",
    "\t\t\t\t\tCASE WHEN SUM(cp.actual) >0 THEN\n",
    "\t\t\t\t\t\tROUND((SUM(((cp.actual*mp.part_per_stoke)/mp.division_factor)-cp.rejection)/SUM((cp.actual*mp.part_per_stoke)/mp.division_factor))*100,1) \n",
    "\t\t\t\t\tELSE 0 END AS QR,\n",
    "\t\t\t\t\t\n",
    "\t\t\t\t\tROUND(((CASE WHEN SUM(cp.run_time+cp.loss_time_1+cp.loss_time_2) >0 THEN \n",
    "\t\t\t\t\t\t(SUM(cp.run_time)/SUM(cp.run_time+cp.loss_time_1+cp.loss_time_2))\n",
    "\t\t\t\t\tELSE 0 END)*\n",
    "\t\t\t\t\t(CASE WHEN (mp.cycle_time_spec*(SUM(cp.run_time)/60)) >0 THEN \n",
    "\t\t\t\t\t\tCASE WHEN (((SUM((cp.actual*mp.part_per_stoke)/mp.division_factor))/SUM(((cp.run_time/60)*((mp.cycle_time_spec)))*mp.draw))) > 1 THEN 1 ELSE (((SUM((cp.actual*mp.part_per_stoke)/mp.division_factor))/SUM(((cp.run_time/60)*((mp.cycle_time_spec)))*mp.draw))) END\n",
    "\t\t\t\t\tELSE 0 END)*\n",
    "\t\t\t\t\t(CASE WHEN SUM(cp.actual) >0 THEN\n",
    "\t\t\t\t\t\t(SUM(((cp.actual*mp.part_per_stoke)/mp.division_factor)-cp.rejection)/SUM((cp.actual*mp.part_per_stoke)/mp.division_factor)) \n",
    "\t\t\t\t\tELSE 0 END))*100,1) AS OEE,\n",
    "\t\t\t\t\t\n",
    "\t\t\t\t\tSUM(((cp.run_time/60)*((mp.cycle_time_spec)))*mp.draw) AS pr_by_val,\n",
    "\t\t\t\t\t\n",
    "\t\t\t\t\tROUND(SUM(cp.target*mp.draw),0) AS target,\n",
    "\t\t\t\t\tROUND(SUM((cp.actual*mp.part_per_stoke)/mp.division_factor),0) AS actual,\n",
    "\t\t\t\t\tROUND(SUM((cp.actual*mp.part_per_stoke)/mp.division_factor)*mp.width,0) AS sq_mtr,\n",
    "\t\t\t\t\t\n",
    "\t\t\t\t\tROUND(SUM(((cp.actual*mp.part_per_stoke)/mp.division_factor)-(cp.rejection)),0) AS ok_qty,\n",
    "\t\t\t\t\tSUM(cp.run_time) AS running_time,\n",
    "\t\t\t\t\tSUM(cp.loss_time_1+cp.loss_time_2) AS loss_time\n",
    "\t\t\t\t\t\n",
    "\t\t\t\t\tFROM digital_factory_v1_completed.production_082022 cp,\n",
    "\t\t\t\t\tdigital_factory_v1.master_product mp\n",
    "\t\t\t\n",
    "\t\t\t\t\tWHERE cp.product_id=mp.product_id\n",
    "\t\t\t\t\t AND cp.mill_shift={mill_shift} and cp.mill_date=\"{mill_date}\"\n",
    "\t\t\t\t\tGROUP BY machine_id\"\"\")\n",
    "conn.commit()\n",
    "\n",
    "cur.execute(f\"\"\"DELETE FROM {day_table_name} WHERE mill_date='{mill_date}'\"\"\")\n",
    "conn.commit()\n",
    "cur.execute(f\"\"\"INSERT INTO {day_table_name}(department_id,machine_id,mill_date,mill_shift,AR,PR,QR,OEE,pr_by_val,target,actual,sq_mtr,ok_qty,running_time,loss_time)\n",
    "\t\t\tSELECT cp.department_id,cp.machine_id,cp.mill_date,cp.mill_shift,\n",
    "\t\t\t\t\tROUND(AVG(AR),1) AS AR,\n",
    "\t\t\t\t\tROUND(AVG(PR),1) AS PR,\n",
    "\t\t\t\t\tROUND(AVG(QR),1) AS QR,\n",
    "\t\t\t\t\tROUND(AVG(OEE),1) AS OEE,\n",
    "\t\t\t\t\tSUM(pr_by_val) AS pr_by_val,\n",
    "\t\t\t\t\tSUM(target) AS target,\n",
    "\t\t\t\t\tSUM(actual) AS actual,\n",
    "\t\t\t\t\tSUM(sq_mtr) AS sq_mtr,\n",
    "\t\t\t\t\tSUM(ok_qty) AS ok_qty,\n",
    "\t\t\t\t\tSUM(running_time) AS running_time,\n",
    "\t\t\t\t\tSUM(loss_time) AS loss_time\n",
    "\t\t\t\t\tFROM {shift_table_name} cp\n",
    "\t\t\t\t\tWHERE mill_date=\"{mill_date}\"\n",
    "\t\t\t\t\tGROUP BY mill_date,machine_id\"\"\")\n",
    "conn.commit()\n",
    "\n",
    "cur.execute(f\"\"\"DELETE FROM {month_table_name} WHERE SUBSTRING(mill_date,6,2)={month}\"\"\")\n",
    "conn.commit()\n",
    "cur.execute(f\"\"\"INSERT INTO {month_table_name}(department_id,machine_id,mill_date,mill_shift,AR,PR,QR,OEE,pr_by_val,target,actual,sq_mtr,ok_qty,running_time,loss_time)\n",
    "    SELECT cp.department_id,cp.machine_id,cp.mill_date,cp.mill_shift,\n",
    "\t\t\t\t\tROUND(AVG(AR),1) AS AR,\n",
    "\t\t\t\t\t\n",
    "\t\t\t\t\tROUND(AVG(PR),1) AS PR,\n",
    "\t\t\t\t\t\n",
    "\t\t\t\t\tROUND(AVG(QR),1) AS QR,\n",
    "\t\t\t\t\t\n",
    "\t\t\t\t\tROUND(AVG(OEE),1) AS OEE,\n",
    "\t\t\t\t\t\n",
    "\t\t\t\t\tSUM(pr_by_val) AS pr_by_val,\n",
    "\t\t\t\t\t\n",
    "\t\t\t\t\tSUM(target) AS target,\n",
    "\t\t\t\t\tSUM(actual) AS actual,\n",
    "\t\t\t\t\tSUM(sq_mtr) AS sq_mtr,\n",
    "\t\t\t\t\t\n",
    "\t\t\t\t\tSUM(ok_qty) AS ok_qty,\n",
    "\t\t\t\t\tSUM(running_time) AS running_time,\n",
    "\t\t\t\t\tSUM(loss_time) AS loss_time\n",
    "\t\t\t\t\t\n",
    "\t\t\t\t\tFROM {day_table_name} cp\n",
    "\t\t\t\t\tWHERE SUBSTRING(mill_date,6,2)={month}\"\"\")\n",
    "conn.commit()\n",
    "\t\n",
    "\n",
    "\t\n",
    "\n",
    "\t\n",
    "\t\n"
   ]
  }
 ],
 "metadata": {
  "interpreter": {
   "hash": "b89b5cfaba6639976dc87ff2fec6d58faec662063367e2c229c520fe71072417"
  },
  "kernelspec": {
   "display_name": "Python 3.10.3 64-bit",
   "language": "python",
   "name": "python3"
  },
  "language_info": {
   "codemirror_mode": {
    "name": "ipython",
    "version": 3
   },
   "file_extension": ".py",
   "mimetype": "text/x-python",
   "name": "python",
   "nbconvert_exporter": "python",
   "pygments_lexer": "ipython3",
   "version": "3.10.3"
  },
  "orig_nbformat": 4
 },
 "nbformat": 4,
 "nbformat_minor": 2
}
