{
 "cells": [
  {
   "cell_type": "code",
   "execution_count": 318,
   "metadata": {},
   "outputs": [],
   "source": [
    "# import mysql.connector\n",
    "import pymysql\n",
    "from pymysql.cursors import DictCursor\n",
    "conn_1=pymysql.connect(host=\"localhost\",\n",
    "                            database=\"digital_factory_v1\",\n",
    "                            user=\"root\",\n",
    "                            password=\"\")\n",
    "conn_2=pymysql.connect(host=\"localhost\",\n",
    "                            database=\"digital_factory_v1_completed\",\n",
    "                            user=\"root\",\n",
    "                            password=\"\")\n",
    "cur_1=conn_1.cursor(DictCursor)\n",
    "cur_2=conn_2.cursor()\n"
   ]
  },
  {
   "cell_type": "code",
   "execution_count": 319,
   "metadata": {},
   "outputs": [],
   "source": [
    "cur_1.execute(f\"select * from master_shifts\")\n",
    "val=cur_1.fetchall()"
   ]
  },
  {
   "cell_type": "code",
   "execution_count": 320,
   "metadata": {},
   "outputs": [
    {
     "data": {
      "text/plain": [
       "{'shift_id': 1,\n",
       " 'company_id': 1,\n",
       " 'no_of_shifts': 3,\n",
       " 'shift1_start_time': datetime.datetime(1900, 1, 1, 7, 0),\n",
       " 'shift2_start_time': datetime.datetime(1900, 1, 1, 15, 30),\n",
       " 'shift3_start_time': datetime.datetime(1900, 1, 1, 23, 30),\n",
       " 'mill_date': datetime.datetime(2022, 8, 6, 0, 0),\n",
       " 'mill_shift': '1',\n",
       " 'created_on': datetime.datetime(2019, 3, 28, 21, 35, 14),\n",
       " 'created_by': 0,\n",
       " 'modified_on': '2020-08-04 18:41:32',\n",
       " 'modified_by': 1}"
      ]
     },
     "execution_count": 320,
     "metadata": {},
     "output_type": "execute_result"
    }
   ],
   "source": [
    "val[0]"
   ]
  },
  {
   "cell_type": "code",
   "execution_count": 321,
   "metadata": {},
   "outputs": [
    {
     "name": "stdout",
     "output_type": "stream",
     "text": [
      "2022-08-04 00:00:00\n",
      "3\n"
     ]
    }
   ],
   "source": [
    "from datetime import timedelta\n",
    "\n",
    "mill_shift=int(val[0][\"mill_shift\"])-1\n",
    "mill_date=val[0][\"mill_date\"]\n",
    "# print(mill_shift)\n",
    "if mill_shift==0:\n",
    "    mill_shift=val[0][\"no_of_shifts\"]\n",
    "    mill_date-=timedelta(2)\n",
    "\n",
    "print(mill_date)\n",
    "print(mill_shift)\n",
    "\n",
    "\n"
   ]
  },
  {
   "cell_type": "code",
   "execution_count": 322,
   "metadata": {},
   "outputs": [
    {
     "name": "stdout",
     "output_type": "stream",
     "text": [
      "2022-08-04\n"
     ]
    }
   ],
   "source": [
    "mill_month={1:\"01\",2:\"02\",3:\"03\",4:\"04\",5:\"05\",6:\"06\",7:\"07\",8:\"08\",9:\"09\",10:\"10\",11:\"11\",12:\"12\"}\n",
    "\n",
    "table_name=\"production_\"+mill_month[mill_date.month]+str(mill_date.year)+\"_\"+\"shift\"\n",
    "mill_date=str(mill_date).split()[0]\n",
    "\n",
    "print(str(mill_date))"
   ]
  },
  {
   "cell_type": "code",
   "execution_count": 323,
   "metadata": {},
   "outputs": [
    {
     "name": "stdout",
     "output_type": "stream",
     "text": [
      "select exists (select table_name from information_schema.tables where table_schema='digital_factory_v1_completed' and table_name='production_082022_shift')\n"
     ]
    }
   ],
   "source": [
    "print(f\"select exists (select table_name from information_schema.tables where table_schema='digital_factory_v1_completed' and table_name='{table_name}')\")"
   ]
  },
  {
   "cell_type": "code",
   "execution_count": 324,
   "metadata": {},
   "outputs": [
    {
     "name": "stdout",
     "output_type": "stream",
     "text": [
      "1\n"
     ]
    }
   ],
   "source": [
    "cur_2.execute(f\"select exists (select table_name from information_schema.tables where table_schema='digital_factory_v1_completed' and table_name='{table_name}')\")\n",
    "state=cur_2.fetchall()\n",
    "print(state[0][0])"
   ]
  },
  {
   "cell_type": "code",
   "execution_count": 325,
   "metadata": {},
   "outputs": [
    {
     "name": "stdout",
     "output_type": "stream",
     "text": [
      "production_082022_shift\n",
      "1\n",
      "hii\n",
      "hello\n",
      "()\n"
     ]
    }
   ],
   "source": [
    "print(table_name)\n",
    "cur_2.execute(f\"select exists (select table_name from information_schema.tables where table_schema='digital_factory_v1_completed' and table_name='{table_name}')\")\n",
    "state = cur_2.fetchall()\n",
    "print(state[0][0])\n",
    "print(\"hii\")\n",
    "\n",
    "\n",
    "cur_2.close()\n",
    "cur_2 = conn_2.cursor()\n",
    "\n",
    "if state[0][0] == 0:\n",
    "\tcur_2.execute(f\"\"\"create table {table_name} SELECT cp.department_id,cp.machine_id,cp.mill_date,cp.mill_shift,\n",
    "\t\t\t\t\tCASE WHEN SUM(cp.run_time+cp.loss_time_1+cp.loss_time_2) >0 THEN \n",
    "\t\t\t\t\t\tROUND((SUM(cp.run_time)/SUM(cp.run_time+cp.loss_time_1+cp.loss_time_2))*100,1) \n",
    "\t\t\t\t\tELSE 0 END AR,\n",
    "\t\t\t\t\t\n",
    "\t\t\t\t\tCASE WHEN (mp.cycle_time_spec*(SUM(cp.run_time)/60)) >0 THEN \n",
    "\t\t\t\t\t\tCASE WHEN ROUND((((SUM((cp.actual*mp.part_per_stoke)/mp.division_factor))/SUM(((cp.run_time/60)*((mp.cycle_time_spec)))*mp.draw)))*100,1) > 100 THEN 100 ELSE ROUND((((SUM((cp.actual*mp.part_per_stoke)/mp.division_factor))/SUM(((cp.run_time/60)*((mp.cycle_time_spec)))*mp.draw)))*100,1) END \n",
    "\t\t\t\t\tELSE 0 END AS PR,\n",
    "\t\t\t\t\t\n",
    "\t\t\t\t\tCASE WHEN SUM(cp.actual) >0 THEN\n",
    "\t\t\t\t\t\tROUND((SUM(((cp.actual*mp.part_per_stoke)/mp.division_factor)-cp.rejection)/SUM((cp.actual*mp.part_per_stoke)/mp.division_factor))*100,1) \n",
    "\t\t\t\t\tELSE 0 END AS QR,\n",
    "\t\t\t\t\t\n",
    "\t\t\t\t\tROUND(((CASE WHEN SUM(cp.run_time+cp.loss_time_1+cp.loss_time_2) >0 THEN \n",
    "\t\t\t\t\t\t(SUM(cp.run_time)/SUM(cp.run_time+cp.loss_time_1+cp.loss_time_2))\n",
    "\t\t\t\t\tELSE 0 END)*\n",
    "\t\t\t\t\t(CASE WHEN (mp.cycle_time_spec*(SUM(cp.run_time)/60)) >0 THEN \n",
    "\t\t\t\t\t\tCASE WHEN (((SUM((cp.actual*mp.part_per_stoke)/mp.division_factor))/SUM(((cp.run_time/60)*((mp.cycle_time_spec)))*mp.draw))) > 1 THEN 1 ELSE (((SUM((cp.actual*mp.part_per_stoke)/mp.division_factor))/SUM(((cp.run_time/60)*((mp.cycle_time_spec)))*mp.draw))) END\n",
    "\t\t\t\t\tELSE 0 END)*\n",
    "\t\t\t\t\t(CASE WHEN SUM(cp.actual) >0 THEN\n",
    "\t\t\t\t\t\t(SUM(((cp.actual*mp.part_per_stoke)/mp.division_factor)-cp.rejection)/SUM((cp.actual*mp.part_per_stoke)/mp.division_factor)) \n",
    "\t\t\t\t\tELSE 0 END))*100,1) AS OEE,\n",
    "\t\t\t\t\t\n",
    "\t\t\t\t\tSUM(((cp.run_time/60)*((mp.cycle_time_spec)))*mp.draw) AS pr_by_val,\n",
    "\t\t\t\t\t\n",
    "\t\t\t\t\tROUND(SUM(cp.target*mp.draw),0) AS target,\n",
    "\t\t\t\t\tROUND(SUM((cp.actual*mp.part_per_stoke)/mp.division_factor),0) AS actual,\n",
    "\t\t\t\t\tROUND(SUM((cp.actual*mp.part_per_stoke)/mp.division_factor)*mp.width,0) AS sq_mtr,\n",
    "\t\t\t\t\t\n",
    "\t\t\t\t\tROUND(SUM(((cp.actual*mp.part_per_stoke)/mp.division_factor)-(cp.rejection)),0) AS ok_qty,\n",
    "\t\t\t\t\tSUM(cp.run_time) AS running_time,\n",
    "\t\t\t\t\tSUM(cp.loss_time_1+cp.loss_time_2) AS loss_time\n",
    "\t\t\t\t\t\n",
    "\t\t\t\t\tFROM digital_factory_v1_completed.production_082022 cp,\n",
    "\t\t\t\t\tdigital_factory_v1.master_product mp\n",
    "\t\t\t\n",
    "\t\t\t\t\tWHERE cp.product_id=mp.product_id\n",
    "\t\t\t\t\t AND cp.mill_shift={mill_shift} and cp.mill_date=\"{mill_date}\"\n",
    "\t\t\t\t\tGROUP BY machine_id\"\"\")\n",
    "\tconn_2.commit()\n",
    "\tresult=cur_2.fetchall()\n",
    "\tprint(result)\n",
    "\tcur_2.execute(f\"alter table {table_name} add column id int primary key auto_increment\")\n",
    "\n",
    "elif state[0][0]==1:\n",
    "\tprint(\"hello\")\n",
    "\tcur_2.execute(f\"\"\"INSERT INTO {table_name}(department_id,machine_id,mill_date,mill_shift,AR,PR,QR,OEE,pr_by_val,target,actual,sq_mtr,ok_qty,running_time,loss_time)\n",
    "\t\t\t\t\tSELECT cp.department_id,cp.machine_id,cp.mill_date,cp.mill_shift,\n",
    "\t\t\t\t\tCASE WHEN SUM(cp.run_time+cp.loss_time_1+cp.loss_time_2) >0 THEN \n",
    "\t\t\t\t\t\tROUND((SUM(cp.run_time)/SUM(cp.run_time+cp.loss_time_1+cp.loss_time_2))*100,1) \n",
    "\t\t\t\t\tELSE 0 END AR,\n",
    "\t\t\t\t\t\n",
    "\t\t\t\t\tCASE WHEN (mp.cycle_time_spec*(SUM(cp.run_time)/60)) >0 THEN \n",
    "\t\t\t\t\t\tCASE WHEN ROUND((((SUM((cp.actual*mp.part_per_stoke)/mp.division_factor))/SUM(((cp.run_time/60)*((mp.cycle_time_spec)))*mp.draw)))*100,1) > 100 THEN 100 ELSE ROUND((((SUM((cp.actual*mp.part_per_stoke)/mp.division_factor))/SUM(((cp.run_time/60)*((mp.cycle_time_spec)))*mp.draw)))*100,1) END \n",
    "\t\t\t\t\tELSE 0 END AS PR,\n",
    "\t\t\t\t\t\n",
    "\t\t\t\t\tCASE WHEN SUM(cp.actual) >0 THEN\n",
    "\t\t\t\t\t\tROUND((SUM(((cp.actual*mp.part_per_stoke)/mp.division_factor)-cp.rejection)/SUM((cp.actual*mp.part_per_stoke)/mp.division_factor))*100,1) \n",
    "\t\t\t\t\tELSE 0 END AS QR,\n",
    "\t\t\t\t\t\n",
    "\t\t\t\t\tROUND(((CASE WHEN SUM(cp.run_time+cp.loss_time_1+cp.loss_time_2) >0 THEN \n",
    "\t\t\t\t\t\t(SUM(cp.run_time)/SUM(cp.run_time+cp.loss_time_1+cp.loss_time_2))\n",
    "\t\t\t\t\tELSE 0 END)*\n",
    "\t\t\t\t\t(CASE WHEN (mp.cycle_time_spec*(SUM(cp.run_time)/60)) >0 THEN \n",
    "\t\t\t\t\t\tCASE WHEN (((SUM((cp.actual*mp.part_per_stoke)/mp.division_factor))/SUM(((cp.run_time/60)*((mp.cycle_time_spec)))*mp.draw))) > 1 THEN 1 ELSE (((SUM((cp.actual*mp.part_per_stoke)/mp.division_factor))/SUM(((cp.run_time/60)*((mp.cycle_time_spec)))*mp.draw))) END\n",
    "\t\t\t\t\tELSE 0 END)*\n",
    "\t\t\t\t\t(CASE WHEN SUM(cp.actual) >0 THEN\n",
    "\t\t\t\t\t\t(SUM(((cp.actual*mp.part_per_stoke)/mp.division_factor)-cp.rejection)/SUM((cp.actual*mp.part_per_stoke)/mp.division_factor)) \n",
    "\t\t\t\t\tELSE 0 END))*100,1) AS OEE,\n",
    "\t\t\t\t\t\n",
    "\t\t\t\t\tSUM(((cp.run_time/60)*((mp.cycle_time_spec)))*mp.draw) AS pr_by_val,\n",
    "\t\t\t\t\t\n",
    "\t\t\t\t\tROUND(SUM(cp.target*mp.draw),0) AS target,\n",
    "\t\t\t\t\tROUND(SUM((cp.actual*mp.part_per_stoke)/mp.division_factor),0) AS actual,\n",
    "\t\t\t\t\tROUND(SUM((cp.actual*mp.part_per_stoke)/mp.division_factor)*mp.width,0) AS sq_mtr,\n",
    "\t\t\t\t\t\n",
    "\t\t\t\t\tROUND(SUM(((cp.actual*mp.part_per_stoke)/mp.division_factor)-(cp.rejection)),0) AS ok_qty,\n",
    "\t\t\t\t\tSUM(cp.run_time) AS running_time,\n",
    "\t\t\t\t\tSUM(cp.loss_time_1+cp.loss_time_2) AS loss_time\n",
    "\t\t\t\t\t\n",
    "\t\t\t\t\tFROM digital_factory_v1_completed.production_082022 cp,\n",
    "\t\t\t\t\tdigital_factory_v1.master_product mp\n",
    "\t\t\t\n",
    "\t\t\t\t\tWHERE cp.product_id=mp.product_id\n",
    "\t\t\t\t\tAND cp.mill_date=\"{mill_date}\" AND cp.mill_shift={mill_shift}\n",
    "\t\t\t\t\tGROUP BY machine_id\"\"\")\n",
    "\tconn_2.commit()\n",
    "\tresult=cur_2.fetchall()\n",
    "\tprint(result)\n",
    "\t\t\n",
    "\t\t\t\n",
    "\n"
   ]
  },
  {
   "cell_type": "code",
   "execution_count": 291,
   "metadata": {},
   "outputs": [
    {
     "name": "stdout",
     "output_type": "stream",
     "text": [
      "INSERT INTO production_082022_shift(department_id,machine_id,mill_date,mill_shift,AR,PR,QR,OEE,pr_by_val,target,actual,sq_mtr,ok_qty,running_time,loss_time)\n",
      "\t\t\t\t\tSELECT cp.department_id,cp.machine_id,cp.mill_date,cp.mill_shift,\n",
      "\t\t\t\t\tCASE WHEN SUM(cp.run_time+cp.loss_time_1+cp.loss_time_2) >0 THEN \n",
      "\t\t\t\t\t\tROUND((SUM(cp.run_time)/SUM(cp.run_time+cp.loss_time_1+cp.loss_time_2))*100,1) \n",
      "\t\t\t\t\tELSE 0 END AR,\n",
      "\t\t\t\t\t\n",
      "\t\t\t\t\tCASE WHEN (mp.cycle_time_spec*(SUM(cp.run_time)/60)) >0 THEN \n",
      "\t\t\t\t\t\tCASE WHEN ROUND((((SUM((cp.actual*mp.part_per_stoke)/mp.division_factor))/SUM(((cp.run_time/60)*((mp.cycle_time_spec)))*mp.draw)))*100,1) > 100 THEN 100 ELSE ROUND((((SUM((cp.actual*mp.part_per_stoke)/mp.division_factor))/SUM(((cp.run_time/60)*((mp.cycle_time_spec)))*mp.draw)))*100,1) END \n",
      "\t\t\t\t\tELSE 0 END AS PR,\n",
      "\t\t\t\t\t\n",
      "\t\t\t\t\tCASE WHEN SUM(cp.actual) >0 THEN\n",
      "\t\t\t\t\t\tROUND((SUM(((cp.actual*mp.part_per_stoke)/mp.division_factor)-cp.rejection)/SUM((cp.actual*mp.part_per_stoke)/mp.division_factor))*100,1) \n",
      "\t\t\t\t\tELSE 0 END AS QR,\n",
      "\t\t\t\t\t\n",
      "\t\t\t\t\tROUND(((CASE WHEN SUM(cp.run_time+cp.loss_time_1+cp.loss_time_2) >0 THEN \n",
      "\t\t\t\t\t\t(SUM(cp.run_time)/SUM(cp.run_time+cp.loss_time_1+cp.loss_time_2))\n",
      "\t\t\t\t\tELSE 0 END)*\n",
      "\t\t\t\t\t(CASE WHEN (mp.cycle_time_spec*(SUM(cp.run_time)/60)) >0 THEN \n",
      "\t\t\t\t\t\tCASE WHEN (((SUM((cp.actual*mp.part_per_stoke)/mp.division_factor))/SUM(((cp.run_time/60)*((mp.cycle_time_spec)))*mp.draw))) > 1 THEN 1 ELSE (((SUM((cp.actual*mp.part_per_stoke)/mp.division_factor))/SUM(((cp.run_time/60)*((mp.cycle_time_spec)))*mp.draw))) END\n",
      "\t\t\t\t\tELSE 0 END)*\n",
      "\t\t\t\t\t(CASE WHEN SUM(cp.actual) >0 THEN\n",
      "\t\t\t\t\t\t(SUM(((cp.actual*mp.part_per_stoke)/mp.division_factor)-cp.rejection)/SUM((cp.actual*mp.part_per_stoke)/mp.division_factor)) \n",
      "\t\t\t\t\tELSE 0 END))*100,1) AS OEE,\n",
      "\t\t\t\t\t\n",
      "\t\t\t\t\tSUM(((cp.run_time/60)*((mp.cycle_time_spec)))*mp.draw) AS pr_by_val,\n",
      "\t\t\t\t\t\n",
      "\t\t\t\t\tROUND(SUM(cp.target*mp.draw),0) AS target,\n",
      "\t\t\t\t\tROUND(SUM((cp.actual*mp.part_per_stoke)/mp.division_factor),0) AS actual,\n",
      "\t\t\t\t\tROUND(SUM((cp.actual*mp.part_per_stoke)/mp.division_factor)*mp.width,0) AS sq_mtr,\n",
      "\t\t\t\t\t\n",
      "\t\t\t\t\tROUND(SUM(((cp.actual*mp.part_per_stoke)/mp.division_factor)-(cp.rejection)),0) AS ok_qty,\n",
      "\t\t\t\t\tSUM(cp.run_time) AS running_time,\n",
      "\t\t\t\t\tSUM(cp.loss_time_1+cp.loss_time_2) AS loss_time\n",
      "\t\t\t\t\t\n",
      "\t\t\t\t\tFROM digital_factory_v1_completed.production_082022 cp,\n",
      "\t\t\t\t\tdigital_factory_v1.master_product mp\n",
      "\t\t\t\n",
      "\t\t\t\t\tWHERE cp.product_id=mp.product_id\n",
      "\t\t\t\t\tAND cp.mill_date=\"2022-08-04\" AND cp.mill_shift=3\n",
      "\t\t\t\t\tGROUP BY machine_id\n"
     ]
    }
   ],
   "source": [
    "print(f\"\"\"INSERT INTO {table_name}(department_id,machine_id,mill_date,mill_shift,AR,PR,QR,OEE,pr_by_val,target,actual,sq_mtr,ok_qty,running_time,loss_time)\n",
    "\t\t\t\t\tSELECT cp.department_id,cp.machine_id,cp.mill_date,cp.mill_shift,\n",
    "\t\t\t\t\tCASE WHEN SUM(cp.run_time+cp.loss_time_1+cp.loss_time_2) >0 THEN \n",
    "\t\t\t\t\t\tROUND((SUM(cp.run_time)/SUM(cp.run_time+cp.loss_time_1+cp.loss_time_2))*100,1) \n",
    "\t\t\t\t\tELSE 0 END AR,\n",
    "\t\t\t\t\t\n",
    "\t\t\t\t\tCASE WHEN (mp.cycle_time_spec*(SUM(cp.run_time)/60)) >0 THEN \n",
    "\t\t\t\t\t\tCASE WHEN ROUND((((SUM((cp.actual*mp.part_per_stoke)/mp.division_factor))/SUM(((cp.run_time/60)*((mp.cycle_time_spec)))*mp.draw)))*100,1) > 100 THEN 100 ELSE ROUND((((SUM((cp.actual*mp.part_per_stoke)/mp.division_factor))/SUM(((cp.run_time/60)*((mp.cycle_time_spec)))*mp.draw)))*100,1) END \n",
    "\t\t\t\t\tELSE 0 END AS PR,\n",
    "\t\t\t\t\t\n",
    "\t\t\t\t\tCASE WHEN SUM(cp.actual) >0 THEN\n",
    "\t\t\t\t\t\tROUND((SUM(((cp.actual*mp.part_per_stoke)/mp.division_factor)-cp.rejection)/SUM((cp.actual*mp.part_per_stoke)/mp.division_factor))*100,1) \n",
    "\t\t\t\t\tELSE 0 END AS QR,\n",
    "\t\t\t\t\t\n",
    "\t\t\t\t\tROUND(((CASE WHEN SUM(cp.run_time+cp.loss_time_1+cp.loss_time_2) >0 THEN \n",
    "\t\t\t\t\t\t(SUM(cp.run_time)/SUM(cp.run_time+cp.loss_time_1+cp.loss_time_2))\n",
    "\t\t\t\t\tELSE 0 END)*\n",
    "\t\t\t\t\t(CASE WHEN (mp.cycle_time_spec*(SUM(cp.run_time)/60)) >0 THEN \n",
    "\t\t\t\t\t\tCASE WHEN (((SUM((cp.actual*mp.part_per_stoke)/mp.division_factor))/SUM(((cp.run_time/60)*((mp.cycle_time_spec)))*mp.draw))) > 1 THEN 1 ELSE (((SUM((cp.actual*mp.part_per_stoke)/mp.division_factor))/SUM(((cp.run_time/60)*((mp.cycle_time_spec)))*mp.draw))) END\n",
    "\t\t\t\t\tELSE 0 END)*\n",
    "\t\t\t\t\t(CASE WHEN SUM(cp.actual) >0 THEN\n",
    "\t\t\t\t\t\t(SUM(((cp.actual*mp.part_per_stoke)/mp.division_factor)-cp.rejection)/SUM((cp.actual*mp.part_per_stoke)/mp.division_factor)) \n",
    "\t\t\t\t\tELSE 0 END))*100,1) AS OEE,\n",
    "\t\t\t\t\t\n",
    "\t\t\t\t\tSUM(((cp.run_time/60)*((mp.cycle_time_spec)))*mp.draw) AS pr_by_val,\n",
    "\t\t\t\t\t\n",
    "\t\t\t\t\tROUND(SUM(cp.target*mp.draw),0) AS target,\n",
    "\t\t\t\t\tROUND(SUM((cp.actual*mp.part_per_stoke)/mp.division_factor),0) AS actual,\n",
    "\t\t\t\t\tROUND(SUM((cp.actual*mp.part_per_stoke)/mp.division_factor)*mp.width,0) AS sq_mtr,\n",
    "\t\t\t\t\t\n",
    "\t\t\t\t\tROUND(SUM(((cp.actual*mp.part_per_stoke)/mp.division_factor)-(cp.rejection)),0) AS ok_qty,\n",
    "\t\t\t\t\tSUM(cp.run_time) AS running_time,\n",
    "\t\t\t\t\tSUM(cp.loss_time_1+cp.loss_time_2) AS loss_time\n",
    "\t\t\t\t\t\n",
    "\t\t\t\t\tFROM digital_factory_v1_completed.production_082022 cp,\n",
    "\t\t\t\t\tdigital_factory_v1.master_product mp\n",
    "\t\t\t\n",
    "\t\t\t\t\tWHERE cp.product_id=mp.product_id\n",
    "\t\t\t\t\tAND cp.mill_date=\"{mill_date}\" AND cp.mill_shift={mill_shift}\n",
    "\t\t\t\t\tGROUP BY machine_id\"\"\")"
   ]
  },
  {
   "cell_type": "code",
   "execution_count": 309,
   "metadata": {},
   "outputs": [
    {
     "data": {
      "text/plain": [
       "0"
      ]
     },
     "execution_count": 309,
     "metadata": {},
     "output_type": "execute_result"
    }
   ],
   "source": [
    "cur_2.execute(\"drop table production_082022_shift\")"
   ]
  },
  {
   "cell_type": "code",
   "execution_count": null,
   "metadata": {},
   "outputs": [],
   "source": [
    "# cur.execute(\"select * from parameters\")\n",
    "# par_form=cur.fetchall()\n",
    "# print(par_form)\n",
    "# if mill_shift==1 and mill_date.day==1:\n",
    "#     table_name=\"production_\"+str(mill_date.month)+str(mill_date.year)+\"_\"\n",
    "#     print(table_name)\n",
    "#     cur.execute(\"select * from parameters\")\n",
    "#     par_form=cur.fetchall()\n",
    "    \n",
    "#     base_str=\"\"\n",
    "#     for val in range(0,len(par_form)):\n",
    "#         if val==0:\n",
    "#             base_str+=f\"{par_form[val][2]} as {par_form[val][1]} \"\n",
    "#             print(base_str)\n",
    "#         else:\n",
    "#             base_str+=f\",{par_form[val][2]} as {par_form[val][1]} \"\n",
    "#             print(base_str)\n",
    "\n",
    "#     print(base_str)\n",
    "#     print(f\"create table {table_name}shift select {base_str} from production_052022\")\n",
    "    \n",
    "#     cur.execute(f\"create table {table_name}shift select {base_str} from production_052022\")\n",
    "\n",
    "# else:\n",
    "#     cur.execute(\"select column_name from information_schema.columns where table_schema='si_df_completed' and table_name='production_52022_shift'\")\n",
    "#     column_1=cur.fetchall()\n",
    "#     cur.execute(\"select parameter from parameters\")\n",
    "#     column_2=cur.fetchall()\n",
    "#     print(column_1)\n",
    "#     print(column_2)\n",
    "#     print(column_2==column_1)\n",
    "#     result=set(column_2)-set(column_1)\n",
    "#     print(list(result))\n",
    "#     # print(set(column_2)-set(column_1))\n",
    "    \n",
    "    \n",
    "\n",
    "# # cur.execute(\"select * from parameters\")\n",
    "# # val=cur.fetchall()\n",
    "# # base_str=\"select \"\n",
    "# # print(len(val))\n",
    "\n",
    "# # for i in val:\n",
    "# #     temp_str=f\"{i[2]} as {i[1]}\"\n",
    "# #     base_str+=temp_str\n",
    "\n",
    "# # print(\"select \"+ base_str+\"from production_052022\")\n",
    "\n"
   ]
  },
  {
   "cell_type": "code",
   "execution_count": null,
   "metadata": {},
   "outputs": [],
   "source": []
  },
  {
   "cell_type": "code",
   "execution_count": null,
   "metadata": {},
   "outputs": [],
   "source": []
  }
 ],
 "metadata": {
  "interpreter": {
   "hash": "b89b5cfaba6639976dc87ff2fec6d58faec662063367e2c229c520fe71072417"
  },
  "kernelspec": {
   "display_name": "Python 3.10.3 64-bit",
   "language": "python",
   "name": "python3"
  },
  "language_info": {
   "codemirror_mode": {
    "name": "ipython",
    "version": 3
   },
   "file_extension": ".py",
   "mimetype": "text/x-python",
   "name": "python",
   "nbconvert_exporter": "python",
   "pygments_lexer": "ipython3",
   "version": "3.10.3"
  },
  "orig_nbformat": 4
 },
 "nbformat": 4,
 "nbformat_minor": 2
}
